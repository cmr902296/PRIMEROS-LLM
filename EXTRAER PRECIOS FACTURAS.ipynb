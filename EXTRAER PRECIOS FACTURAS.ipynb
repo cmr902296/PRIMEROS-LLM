{
 "cells": [
  {
   "cell_type": "markdown",
   "id": "543be617-1a44-4cce-b54d-a25dba425974",
   "metadata": {},
   "source": [
    "CREAR AGENTE IA PARA EXTRACCION DE DATOS DE PDF"
   ]
  },
  {
   "cell_type": "code",
   "execution_count": 1,
   "id": "c61c2bfc-e48e-4c61-9e6a-fa08f386cefe",
   "metadata": {},
   "outputs": [],
   "source": [
    "# IMPORTAR LIBRERIAS\n",
    "import os # INTERACTUAR CON VARIABLES DE SISTEMA\n",
    "import pandas as pd # MANIPULAR DATOS\n",
    "from dotenv import load_dotenv # CARGAR VARIABLES DE ENTORNO\n",
    "import fitz # LIBRERIA PARA EXTRAER DATOS DE UN PDF\n",
    "import ollama # MODELO OLLAMA \n",
    "from openai import OpenAI # MODELO API CHAT GPT\n",
    "import io"
   ]
  },
  {
   "cell_type": "code",
   "execution_count": 2,
   "id": "1b9201bd-9c57-4a7e-a50d-82ad6077b6b0",
   "metadata": {},
   "outputs": [],
   "source": [
    "# MODELOS\n",
    "MODELO_GPT = \"gpt-4o-mini\"\n",
    "MODELO_LLAMA = \"llama3.2\""
   ]
  },
  {
   "cell_type": "code",
   "execution_count": 3,
   "id": "f6593a8e-23fc-4e2d-bc15-806e6d5a0685",
   "metadata": {},
   "outputs": [],
   "source": [
    "# VARIABLE DE ENTORNO API OPEN AI\n",
    "load_dotenv()\n",
    "openai = OpenAI()"
   ]
  },
  {
   "cell_type": "code",
   "execution_count": 4,
   "id": "c02ab0ef-dbcf-46f1-be57-b735a4b1be68",
   "metadata": {},
   "outputs": [],
   "source": [
    "# DEFINIR FUNCION EXTRAER INFORMACION\n",
    "def extract_text_from_pdf(pdf_path):\n",
    "    \"\"\"Extrae texto de un PDF.\"\"\"\n",
    "    doc = fitz.open(pdf_path)\n",
    "    text = \"\"\n",
    "    for page in doc:\n",
    "        text += page.get_text(\"text\") + \"\\n\"\n",
    "    return text"
   ]
  },
  {
   "cell_type": "code",
   "execution_count": 5,
   "id": "c94f9532-a444-4a41-a60c-5911d0059b61",
   "metadata": {},
   "outputs": [],
   "source": [
    "# CARGAR RUTA PDF\n",
    "pdf_path = \"C:/Users/fmr10.000/Desktop/FACTURA_COMPRA.pdf\""
   ]
  },
  {
   "cell_type": "code",
   "execution_count": 6,
   "id": "39f64817-2c2c-44c0-b897-bd4634062e68",
   "metadata": {},
   "outputs": [
    {
     "name": "stdout",
     "output_type": "stream",
     "text": [
      "MERCADONA, S.A.   A-46103834\n",
      "C/ VIRGEN DE LA PAZ 16\n",
      "28027 MADRID\n",
      "TELÉFONO:\n",
      "917164872\n",
      "01/09/2023 19:33 \n",
      " OP: 254823\n",
      "FACTURA SIMPLIFICADA: 3976-012-166993\n",
      "Descripción\n",
      "P. Unit\n",
      "Importe\n",
      "1\n",
      "KÉFIR\n",
      "1,40\n",
      "1\n",
      "GELLY 0% SABORES\n",
      "1,00\n",
      "1\n",
      "PAN 51% INTEGRAL 5UN\n",
      "1,30\n",
      "2\n",
      "PISTACHO TOSTADO SAL\n",
      "3,30\n",
      "6,60\n",
      "1\n",
      "ATÚN CLARO OLIVA PK6\n",
      "5,25\n",
      "1\n",
      "JAMON S. EXTRA FINO\n",
      "2,43\n",
      "1\n",
      "MELOCOTÓN BANDEJA\n",
      "2,52\n",
      "1\n",
      "JAMON COC.BRASEADO\n",
      "2,24\n",
      "1\n",
      "PAJARITAS VEGETALES\n",
      "0,90\n",
      "1\n",
      "Q.BURGOS DESNATADO 6\n",
      "1,56\n",
      "1\n",
      "ALMENDRA NATURAL\n",
      "2,20\n",
      "1\n",
      "ESPÁRRAGO CORTO DELG\n",
      "1,55\n",
      "1\n",
      "NEGRO 99% CACAO\n",
      "1,60\n",
      "1\n",
      "ARROZ 3 DELICIAS\n",
      "2,75\n",
      "1\n",
      "PAN DE FIBRA\n",
      "1,25\n",
      "1\n",
      "PECHUGA PAVO FL\n",
      "2,07\n",
      "1\n",
      "MANZANILLA MIEL\n",
      "1,15\n",
      "1\n",
      "+PROTEÍNAS LIMÓN\n",
      "1,60\n",
      "1\n",
      "SALMÓN AHUMADO\n",
      "3,55\n",
      "1\n",
      "FILETE PECHUGA\n",
      "5,07\n",
      "1\n",
      "ACEITUNA NEGRA S/H\n",
      "1,00\n",
      "1\n",
      "Q SEMI MEZCLA\n",
      "4,64\n",
      "1\n",
      "TOMATE CANARIO\n",
      "1,304 kg\n",
      "1,79 €/kg\n",
      "2,33\n",
      "TOTAL (€)\n",
      "55,96\n",
      "TARJETA BANCARIA\n",
      "55,96\n",
      "IVA\n",
      "BASE IMPONIBLE (€)\n",
      "CUOTA (€)\n",
      "10%\n",
      "36,83\n",
      "3,68\n",
      "5%\n",
      "0,86\n",
      "0,04\n",
      "0%\n",
      "14,55\n",
      "0,00\n",
      "TOTAL\n",
      "52,24\n",
      "3,72\n",
      "TARJ. BANCARIA:  **** **** **** 9478\n",
      "N.C: 047521927\n",
      " AUT: 333674\n",
      "AID: A0000000031010\n",
      "  ARC: 3030\n",
      "VISA CREDITO/DEB\n",
      "Importe: 55,96 €\n",
      "   VISA DEBITO\n",
      "SE ADMITEN DEVOLUCIONES CON TICKET\n",
      "\n",
      "\n"
     ]
    }
   ],
   "source": [
    "# EXTRAER TEXT\n",
    "text = extract_text_from_pdf(pdf_path)\n",
    "print(text)"
   ]
  },
  {
   "cell_type": "code",
   "execution_count": 8,
   "id": "1060816d-e60f-473a-8f52-52c354ba9d02",
   "metadata": {},
   "outputs": [],
   "source": [
    "# DEFINIR PROMPT\n",
    "system_prompt = \"Eres un asistente que extrae datos de precios y los devuelve en formato tabular.\"\n",
    "user_prompt = f\"Extrae los precios del siguiente texto y devuélvelos en formato tabular (nombre, precio, unidad):\\n{text}\""
   ]
  },
  {
   "cell_type": "code",
   "execution_count": 9,
   "id": "8a120874-2604-4446-8218-855d598860bc",
   "metadata": {},
   "outputs": [],
   "source": [
    "# MESSAGES\n",
    "messages = [\n",
    "    {\"role\": \"system\", \"content\": system_prompt},\n",
    "    {\"role\": \"user\", \"content\": user_prompt}\n",
    "]"
   ]
  },
  {
   "cell_type": "code",
   "execution_count": 10,
   "id": "bb964db6-9735-4ec6-93cb-77cdbd6861ee",
   "metadata": {},
   "outputs": [],
   "source": [
    "# RESPUESTA OLLAMA\n",
    "def extract_prices_ollama(text):\n",
    "    response = ollama.chat(model = MODELO_LLAMA,messages = messages)\n",
    "    excel_data = response[\"message\"][\"content\"]\n",
    "    return excel_data"
   ]
  },
  {
   "cell_type": "code",
   "execution_count": 11,
   "id": "2128258e-4206-49f3-8b72-157f15873668",
   "metadata": {},
   "outputs": [],
   "source": [
    "# AHORA CON CHAT GPT\n",
    "def extract_prices_gpt(text):\n",
    "    response = openai.chat.completions.create(model = MODELO_GPT,messages = messages)\n",
    "    return response.choices[0].message.content"
   ]
  },
  {
   "cell_type": "code",
   "execution_count": 12,
   "id": "6ba2d6f1-b61a-45d6-b5b6-1dbd6fcb33c0",
   "metadata": {},
   "outputs": [
    {
     "name": "stdout",
     "output_type": "stream",
     "text": [
      "Aquí te dejo los precios del texto en formato tabular:\n",
      "\n",
      "| Nombre        | Precio  | Unidad |\n",
      "|---------------|---------|--------|\n",
      "| KÉFIR       | 1,40    | L     |\n",
      "| GELLY 0% SABORES | 1,00   | L     |\n",
      "| PAN 51% INTEGRAL 5UN | 1,30   | L     |\n",
      "| PISTACHO TOSTADO SAL | 3,30   | kg     |\n",
      "| ATÚN CLARO OLIVA PK6 | 5,25   | kg     |\n",
      "| JAMON S. EXTRA FINO | 2,43   | L     |\n",
      "| MELOCOTÓN BANDEJA | 2,52   | L     |\n",
      "| JAMON COC.BRASEADO | 2,24   | L     |\n",
      "| PAJARITAS VEGETALES | 0,90   | L     |\n",
      "| Q.BURGOS DESNATADO 6 | 1,56   | kg     |\n",
      "| ALMENDRA NATURAL | 2,20   | kg     |\n",
      "| ESPÁRRAGO CORTO DELG | 1,55   | kg     |\n",
      "| NEGRO 99% CACAO | 1,60   | L     |\n",
      "| ARROZ 3 DELICIAS | 2,75   | L     |\n",
      "| PAN DE FIBRA | 1,25   | L     |\n",
      "| PECHUGA PAVO FL | 2,07   | kg     |\n",
      "| MANZANILLA MIEL | 1,15   | L     |\n",
      "| +PROTEÍNAS LIMÓN | 1,60   | L     |\n",
      "| SALMÓN AHUMADO | 3,55   | kg     |\n",
      "| FILETE PECHUGA | 5,07   | kg     |\n",
      "| ACEITUNA NEGRA S/H | 1,00   | L     |\n",
      "| Q SEMI MEZCLA | 4,64   | L     |\n",
      "| TOMATE CANARIO | 1,79 €/kg |\n",
      "| IVA (BASE IMPONIBLE) | 36,83 € |\n",
      "| CUOTA (10%) | 3,68 € |\n",
      "| CUOTA (5%) | 0,86 € |\n",
      "| CUOTA (0%) | 14,55 € |\n",
      "\n",
      "Nota: En algunos casos, el precio se indica en función de la unidad de medida o de la cantidad (por ejemplo, el precio del TOMATE CANARIO es indicado por kilogramo y su precio es de 1,79€/kg).\n"
     ]
    }
   ],
   "source": [
    "# EXTRAER PRECIOS USANDO OLLAMA\n",
    "prices_xlsx_ollama = extract_prices_ollama(text)\n",
    "print(prices_xlsx_ollama)"
   ]
  },
  {
   "cell_type": "code",
   "execution_count": 13,
   "id": "40335066-cb19-4b9f-8cb0-c77b71dc5b5d",
   "metadata": {},
   "outputs": [
    {
     "name": "stdout",
     "output_type": "stream",
     "text": [
      "Aquí tienes los datos extraídos en formato tabular:\n",
      "\n",
      "| Nombre                           | Precio | Unidad          |\n",
      "|----------------------------------|--------|------------------|\n",
      "| KÉFIR                            | 1,40   | €                |\n",
      "| GELLY 0% SABORES                | 1,00   | €                |\n",
      "| PAN 51% INTEGRAL 5UN            | 1,30   | €                |\n",
      "| PISTACHO TOSTADO SAL            | 3,30   | € (total)        |\n",
      "| ATÚN CLARO OLIVA PK6            | 5,25   | €                |\n",
      "| JAMON S. EXTRA FINO             | 2,43   | €                |\n",
      "| MELOCOTÓN BANDEJA               | 2,52   | €                |\n",
      "| JAMON COC.BRASEADO              | 2,24   | €                |\n",
      "| PAJARITAS VEGETALES             | 0,90   | €                |\n",
      "| Q.BURGOS DESNATADO 6            | 1,56   | €                |\n",
      "| ALMENDRA NATURAL                | 2,20   | €                |\n",
      "| ESPÁRRAGO CORTO DELG            | 1,55   | €                |\n",
      "| NEGRO 99% CACAO                 | 1,60   | €                |\n",
      "| ARROZ 3 DELICIAS                | 2,75   | €                |\n",
      "| PAN DE FIBRA                    | 1,25   | €                |\n",
      "| PECHUGA PAVO FL                 | 2,07   | €                |\n",
      "| MANZANILLA MIEL                 | 1,15   | €                |\n",
      "| +PROTEÍNAS LIMÓN                | 1,60   | €                |\n",
      "| SALMÓN AHUMADO                  | 3,55   | €                |\n",
      "| FILETE PECHUGA                  | 5,07   | €                |\n",
      "| ACEITUNA NEGRA S/H              | 1,00   | €                |\n",
      "| Q SEMI MEZCLA                   | 4,64   | €                |\n",
      "| TOMATE CANARIO                  | 1,79   | €/kg (1,304 kg)  |\n",
      "\n",
      "Si necesitas más ayuda, no dudes en decírmelo.\n"
     ]
    }
   ],
   "source": [
    "# EXTRAER PRECIOS USANDO GPT\n",
    "prices_xlsx_gpt = extract_prices_gpt(text)\n",
    "print(prices_xlsx_gpt)"
   ]
  }
 ],
 "metadata": {
  "kernelspec": {
   "display_name": "Python 3 (ipykernel)",
   "language": "python",
   "name": "python3"
  },
  "language_info": {
   "codemirror_mode": {
    "name": "ipython",
    "version": 3
   },
   "file_extension": ".py",
   "mimetype": "text/x-python",
   "name": "python",
   "nbconvert_exporter": "python",
   "pygments_lexer": "ipython3",
   "version": "3.11.11"
  }
 },
 "nbformat": 4,
 "nbformat_minor": 5
}
