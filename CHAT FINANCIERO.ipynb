{
 "cells": [
  {
   "cell_type": "code",
   "execution_count": null,
   "id": "bfa94c2c-f517-4be4-9b68-e76e83ed9924",
   "metadata": {},
   "outputs": [],
   "source": [
    "# LIBRERIAS\n",
    "import os\n",
    "from dotenv import load_dotenv\n",
    "from openai import OpenAI\n",
    "import gradio as gr"
   ]
  },
  {
   "cell_type": "code",
   "execution_count": null,
   "id": "cd3ecffe-28b3-4ca1-beb8-3601071e8b94",
   "metadata": {},
   "outputs": [],
   "source": [
    "# CARGAR API DE OPENAI Y VERIFICAR SU EXISTENCIA EN ENTORNO\n",
    "load_dotenv()\n",
    "openai_api_key = os.getenv('OPENAI_API_KEY')\n",
    "if openai_api_key:\n",
    "    print(f\"OpenAI API Key existe y empieza por {openai_api_key[:8]}\")\n",
    "else:\n",
    "    print(\"OpenAI API Key Sin Configurar\")"
   ]
  },
  {
   "cell_type": "code",
   "execution_count": null,
   "id": "49d6f0bb-4907-4824-9fb2-121abdff0c68",
   "metadata": {},
   "outputs": [],
   "source": [
    "# LLAMADA A LA API DEL MODELO ECONOMICO DE OPEN AI\n",
    "openai = OpenAI()\n",
    "MODEL = 'gpt-4o-mini'"
   ]
  },
  {
   "cell_type": "code",
   "execution_count": null,
   "id": "0bf9d7e4-e891-4d77-b861-38ec240154e4",
   "metadata": {},
   "outputs": [],
   "source": [
    "# DEFINIR PROMPT DE SISTEMA PARA LA HERRAMIENTA COMERCIAL\n",
    "system_message = \"Eres un asesor financiero que se dedica a preparar carteras de inversión. \\\n",
    "Atiendes a todo tipo de clientes, independientemente de su conocimiento y patrimonio, de forma amable y comprensible frente a sus riesgos. \\\n",
    "Haces entender de forma sencilla términos como inflación, DCA, indexación, renta variable y fija. \\\n",
    "Todas tu recomendaciones de inversión siempre se ajusta al horizonte temporal de las personas. \\\n",
    "Por último, siempre indicas que rentabilidades pasadas no garantizan futuras.\""
   ]
  },
  {
   "cell_type": "code",
   "execution_count": null,
   "id": "92ad77a9-dfca-44da-b74e-53e35098f007",
   "metadata": {},
   "outputs": [],
   "source": [
    "# DEFINIR ESTRUCTURA DE LA CONVERSACIÓN Y MODO STREAM SIMILAR A CHATGT\n",
    "def chat(message, history):\n",
    "    messages = [{\"role\": \"system\", \"content\": system_message}] + history + [{\"role\": \"user\", \"content\": message}]\n",
    "\n",
    "    stream = openai.chat.completions.create(model=MODEL, messages=messages, stream=True)\n",
    "\n",
    "    response = \"\"\n",
    "    for chunk in stream:\n",
    "        response += chunk.choices[0].delta.content or ''\n",
    "        yield response"
   ]
  },
  {
   "cell_type": "code",
   "execution_count": null,
   "id": "94f9739d-7e8d-4a07-a70c-a48239eea087",
   "metadata": {},
   "outputs": [],
   "source": [
    "# INTERFAZ CHAT BOT PARA INTERACTUAR CON EL MODELO\n",
    "gr.ChatInterface(fn=chat,type=\"messages\").launch()"
   ]
  }
 ],
 "metadata": {
  "kernelspec": {
   "display_name": "Python 3 (ipykernel)",
   "language": "python",
   "name": "python3"
  },
  "language_info": {
   "codemirror_mode": {
    "name": "ipython",
    "version": 3
   },
   "file_extension": ".py",
   "mimetype": "text/x-python",
   "name": "python",
   "nbconvert_exporter": "python",
   "pygments_lexer": "ipython3",
   "version": "3.11.11"
  }
 },
 "nbformat": 4,
 "nbformat_minor": 5
}
